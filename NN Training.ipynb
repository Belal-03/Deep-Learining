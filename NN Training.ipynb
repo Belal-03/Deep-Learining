{
 "cells": [
  {
   "cell_type": "markdown",
   "id": "c9a2fca2-fae8-4553-8b05-131594fabc00",
   "metadata": {},
   "source": [
    "# Belal Khaled - 2136873\n",
    "## NN & Deep Learning Assignment 02: \n",
    "### \" NN Training \".\n",
    "\n",
    "#  ـــــــــــــــــــــــــــــــــــــــــــــــــــــــــــــــــــــــــــــــــــــــــــــــــــــــــــــــــــ"
   ]
  },
  {
   "cell_type": "markdown",
   "id": "1c754fe3-5e7f-4248-ab98-ea19968acbe2",
   "metadata": {},
   "source": [
    "# • Import Pandas and Numpy Libraries:"
   ]
  },
  {
   "cell_type": "code",
   "execution_count": 1,
   "id": "94d4e179-1d56-4ac8-a76f-e876b95937e8",
   "metadata": {},
   "outputs": [],
   "source": [
    "import pandas as pd\n",
    "import numpy as np"
   ]
  },
  {
   "cell_type": "markdown",
   "id": "a5ca4e6d-c0b6-422a-ba07-e18f1f20a97c",
   "metadata": {},
   "source": [
    "# • Loading the dataset:"
   ]
  },
  {
   "cell_type": "code",
   "execution_count": 2,
   "id": "74553c04-eb58-4d8e-b1a0-6431d08d13da",
   "metadata": {},
   "outputs": [],
   "source": [
    "DataSet = pd.read_csv('moonDataset.csv')"
   ]
  },
  {
   "cell_type": "markdown",
   "id": "13713a0e-e354-4782-95ab-e17996543a37",
   "metadata": {},
   "source": [
    "#  ـــــــــــــــــــــــــــــــــــــــــــــــــــــــــــــــــــــــــــــــــــــــــــــــــــــــــــــــــــ"
   ]
  },
  {
   "cell_type": "markdown",
   "id": "e4f1d08d-a47e-4888-a611-c4fbe9b31fa2",
   "metadata": {},
   "source": [
    "# • Separating inputs and labels:"
   ]
  },
  {
   "cell_type": "code",
   "execution_count": 3,
   "id": "a16ce7eb-1716-4210-ab81-30e246488b41",
   "metadata": {},
   "outputs": [],
   "source": [
    "X = DataSet[['X1', 'X2', 'X3']].values\n",
    "y = DataSet['label'].values.reshape(-1, 1)"
   ]
  },
  {
   "cell_type": "code",
   "execution_count": 13,
   "id": "fdaf55d2-8082-404d-9953-a0e82469d4f5",
   "metadata": {},
   "outputs": [
    {
     "data": {
      "text/plain": [
       "numpy.ndarray"
      ]
     },
     "execution_count": 13,
     "metadata": {},
     "output_type": "execute_result"
    }
   ],
   "source": [
    "type(y)"
   ]
  },
  {
   "cell_type": "markdown",
   "id": "333f2c07-dfd0-41bb-8d43-39ee4e97c8f3",
   "metadata": {},
   "source": [
    "# • Initialize weights and biases:"
   ]
  },
  {
   "cell_type": "code",
   "execution_count": 4,
   "id": "2afd0b05-73bc-40a9-8361-b40dae46c92a",
   "metadata": {},
   "outputs": [],
   "source": [
    "weights_hidden = np.array([[0.2, -0.3], [0.4, 0.1], [-0.5, 0.2]])\n",
    "weights7_8 = np.array([[-0.3], [-0.2]])\n",
    "bias1_2 = np.array([[-0.4, 0.2]])\n",
    "bias3 = np.array([[0.1]])"
   ]
  },
  {
   "cell_type": "markdown",
   "id": "d7f45cec-8314-4c62-931c-d3b08472027e",
   "metadata": {},
   "source": [
    "# • Define learning rate and epochs:"
   ]
  },
  {
   "cell_type": "code",
   "execution_count": 5,
   "id": "68b51c2b-f0bd-48b3-9b0f-4aedd2dc1106",
   "metadata": {},
   "outputs": [],
   "source": [
    "learning_rate = 0.1\n",
    "epochs = 20"
   ]
  },
  {
   "cell_type": "markdown",
   "id": "1988b871-fde7-4f43-babd-46ed7551f4c9",
   "metadata": {},
   "source": [
    "#  ـــــــــــــــــــــــــــــــــــــــــــــــــــــــــــــــــــــــــــــــــــــــــــــــــــــــــــــــــــ"
   ]
  },
  {
   "cell_type": "markdown",
   "id": "264b985e-13f7-48df-ae93-b7ff0c1ef6fd",
   "metadata": {
    "tags": []
   },
   "source": [
    "# • Sigmoid function and its derivative:"
   ]
  },
  {
   "cell_type": "code",
   "execution_count": 6,
   "id": "f3c5ba3f-bbf2-43cc-b03d-038956b2d552",
   "metadata": {},
   "outputs": [],
   "source": [
    "def sigmoid(x):\n",
    "    \n",
    "    return 1 / (1 + np.exp(-x))\n",
    "\n",
    "def sigmoid_derivative(x):\n",
    "    \n",
    "    return x * (1 - x)"
   ]
  },
  {
   "cell_type": "markdown",
   "id": "55c9cea6-94c7-44fb-984d-dfcf1f1045cc",
   "metadata": {},
   "source": [
    "# • Forward Pass Function:"
   ]
  },
  {
   "cell_type": "code",
   "execution_count": 7,
   "id": "77af9168-d9eb-4d63-a2e7-7d7085d4e88d",
   "metadata": {},
   "outputs": [],
   "source": [
    "def forward_pass(X):\n",
    "    \n",
    "    H1_H2 = np.dot(X, weights_hidden) + bias1_2\n",
    "    Sig_H1_H2 = sigmoid(H1_H2)\n",
    "    \n",
    "    output = np.dot(Sig_H1_H2, weights7_8) + bias3\n",
    "    predicted = sigmoid(output)\n",
    "    \n",
    "    return Sig_H1_H2, predicted\n"
   ]
  },
  {
   "cell_type": "markdown",
   "id": "692ab5d3-4ad8-4912-b35d-35c52a71e7da",
   "metadata": {},
   "source": [
    "# • Backward Pass (SGD) Function:\n",
    "####            ♠ Calculating the error.\n",
    "####            ♣ Calculating derivatives.\n",
    "####            ♦ Updating weights and biases."
   ]
  },
  {
   "cell_type": "code",
   "execution_count": 8,
   "id": "e35ff784-8f99-4dc1-9f4d-b731949bcb10",
   "metadata": {},
   "outputs": [],
   "source": [
    "def backward_pass(X, y, Sig_H1_H2, predicted, weights_hidden, \n",
    "                  weights7_8, bias1_2, bias3):\n",
    "    \n",
    "    error = y - predicted\n",
    "\n",
    "    D_predicted = error * sigmoid_derivative(predicted)\n",
    "    error_hidden = D_predicted.dot(weights7_8.T)\n",
    "    D_hidden = error_hidden * sigmoid_derivative(Sig_H1_H2)\n",
    "\n",
    "    weights_hidden += learning_rate * X.T.dot(D_hidden)\n",
    "    bias1_2 += learning_rate * np.sum(D_hidden, axis=0, keepdims=True)\n",
    "    weights7_8 += learning_rate * Sig_H1_H2.T.dot(D_predicted)\n",
    "    bias3 += learning_rate * np.sum(D_predicted, axis=0, keepdims=True)\n",
    "\n",
    "    return weights_hidden, weights7_8, bias1_2, bias3\n"
   ]
  },
  {
   "cell_type": "markdown",
   "id": "f82bb27b-98af-4a2f-86c7-bde64355b107",
   "metadata": {},
   "source": [
    "#  ـــــــــــــــــــــــــــــــــــــــــــــــــــــــــــــــــــــــــــــــــــــــــــــــــــــــــــــــــــ"
   ]
  },
  {
   "cell_type": "markdown",
   "id": "d2de7e55-f027-48ff-b4b5-d712860ea447",
   "metadata": {},
   "source": [
    "# • Training the model:"
   ]
  },
  {
   "cell_type": "code",
   "execution_count": 9,
   "id": "e753ae65-2683-4bb6-83d7-56a98b6df4dc",
   "metadata": {},
   "outputs": [],
   "source": [
    "Loss_Log = []\n",
    "for epoch in range(epochs):\n",
    "    Sig_H1_H2, predicted = forward_pass(X)\n",
    "    loss = np.mean(np.square(y - predicted)) # ==> (MSE)\n",
    "    Loss_Log.append(loss)\n",
    "    weights_hidden, weights7_8, bias1_2, bias3 = backward_pass(X, y, Sig_H1_H2, \n",
    "                                                 predicted, weights_hidden, \n",
    "                                                 weights7_8, bias1_2, bias3)\n"
   ]
  },
  {
   "cell_type": "markdown",
   "id": "68e35c19-1379-4bef-929f-4b634ccda805",
   "metadata": {},
   "source": [
    "#  ـــــــــــــــــــــــــــــــــــــــــــــــــــــــــــــــــــــــــــــــــــــــــــــــــــــــــــــــــــ"
   ]
  },
  {
   "cell_type": "markdown",
   "id": "c476ea05-10f8-43e8-b63a-5ed453063c7f",
   "metadata": {},
   "source": [
    "# • Import matplotlib Library:"
   ]
  },
  {
   "cell_type": "code",
   "execution_count": 10,
   "id": "ed47d717-7578-4e5c-b36b-ccdb45dce707",
   "metadata": {},
   "outputs": [],
   "source": [
    "import matplotlib.pyplot as plt"
   ]
  },
  {
   "cell_type": "code",
   "execution_count": 11,
   "id": "2d294da3-5166-4950-b4da-04f9d4cea37a",
   "metadata": {},
   "outputs": [
    {
     "data": {
      "text/plain": [
       "<matplotlib.image.AxesImage at 0x1ab1ae98c40>"
      ]
     },
     "execution_count": 11,
     "metadata": {},
     "output_type": "execute_result"
    },
    {
     "data": {
      "image/png": "[encoded data removed]",
      "text/plain": [
       "<Figure size 640x480 with 1 Axes>"
      ]
     },
     "metadata": {},
     "output_type": "display_data"
    }
   ],
   "source": [
    "plt.imshow(DataSet)"
   ]
  },
  {
   "cell_type": "markdown",
   "id": "d9bbf414-4beb-46ec-a49f-66186aa92787",
   "metadata": {},
   "source": [
    "# • Plot the loss after each epoch:"
   ]
  },
  {
   "cell_type": "code",
   "execution_count": 12,
   "id": "60ecd582-a796-4623-ab44-8021c5a13a32",
   "metadata": {},
   "outputs": [
    {
     "data": {
      "image/png": "[encoded data removed]",
      "text/plain": [
       "<Figure size 640x480 with 1 Axes>"
      ]
     },
     "metadata": {},
     "output_type": "display_data"
    }
   ],
   "source": [
    "plt.plot(Loss_Log)\n",
    "plt.title('Loss Trends Across Epochs')\n",
    "plt.xlabel('Epochs')\n",
    "plt.ylabel('Loss')\n",
    "plt.xticks(range(len(Loss_Log)))\n",
    "plt.show()\n"
   ]
  },
  {
   "cell_type": "code",
   "execution_count": null,
   "id": "65572264-df8b-4f36-bf26-70c3d7361f3f",
   "metadata": {},
   "outputs": [],
   "source": []
  },
  {
   "cell_type": "code",
   "execution_count": null,
   "id": "11987a91-6390-4c94-b219-ab0317883bd3",
   "metadata": {},
   "outputs": [],
   "source": []
  }
 ],
 "metadata": {
  "kernelspec": {
   "display_name": "Python 3 (ipykernel)",
   "language": "python",
   "name": "python3"
  },
  "language_info": {
   "codemirror_mode": {
    "name": "ipython",
    "version": 3
   },
   "file_extension": ".py",
   "mimetype": "text/x-python",
   "name": "python",
   "nbconvert_exporter": "python",
   "pygments_lexer": "ipython3",
   "version": "3.9.19"
  }
 },
 "nbformat": 4,
 "nbformat_minor": 5
}
