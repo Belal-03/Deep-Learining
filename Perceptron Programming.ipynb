{
 "cells": [
  {
   "cell_type": "markdown",
   "id": "ecb83674-7026-44b0-a831-4b375da1b93a",
   "metadata": {},
   "source": [
    "# Belal Khaled - 2136873\n",
    "## NN & Deep Learning Assignment 01: \n",
    "### \" Perceptron Programming \".\n",
    "\n",
    "# ـــــــــــــــــــــــــــــــــــــــــــــــــــــــــــــــــــــــــــــــــــــــــــــــــــــــــــــــــــ"
   ]
  },
  {
   "cell_type": "markdown",
   "id": "d05b7d15-ac28-4d1c-9464-c43c66cef5cd",
   "metadata": {},
   "source": [
    "# Import Numpy Library:"
   ]
  },
  {
   "cell_type": "code",
   "execution_count": 1,
   "id": "90e6b0f9-d1c5-4058-a2c1-3e0d04eb27b5",
   "metadata": {},
   "outputs": [],
   "source": [
    "import numpy as np"
   ]
  },
  {
   "cell_type": "markdown",
   "id": "2dfeb7f7-4926-4d7b-8666-bbbf3dcbd995",
   "metadata": {},
   "source": [
    "# DataSet:"
   ]
  },
  {
   "cell_type": "code",
   "execution_count": 2,
   "id": "9abc5303-2681-4d0f-b537-0eef295391fb",
   "metadata": {},
   "outputs": [],
   "source": [
    "train_data = np.array([ \n",
    "                     [1.00, 0.08, 0.72, 1.0],\n",
    "                     [1.00, 0.10, 1.00, 1.0],\n",
    "                     [1.00, 0.26, 0.58, 1.0],\n",
    "                     [1.00, 0.35, 0.95, 0.0],\n",
    "                     [1.00, 0.45, 0.15, 1.0],\n",
    "                     [1.00, 0.60, 0.30, 1.0],\n",
    "                     [1.00, 0.70, 0.65, 0.0],\n",
    "                     [1.00, 0.92, 0.45, 0.0] \n",
    "])\n",
    "\n",
    "\n",
    "test_data = np.array([\n",
    "                    [1.00, 0.42, 0.85, 0.0],\n",
    "                    [1.00, 0.65, 0.55, 0.0],\n",
    "                    [1.00, 0.20, 0.30, 1.0],\n",
    "                    [1.00, 0.20, 1.00, 0.0],\n",
    "                    [1.00, 0.85, 0.10, 1.0]\n",
    "])\n"
   ]
  },
  {
   "cell_type": "markdown",
   "id": "1227cc1d-9d93-456f-8f84-3bf1f7609dd8",
   "metadata": {},
   "source": [
    "# Perceptron Train Function:"
   ]
  },
  {
   "cell_type": "code",
   "execution_count": 3,
   "id": "ba7f3143-55c0-4d4c-843e-04747aa72e89",
   "metadata": {},
   "outputs": [],
   "source": [
    "def perceptron_train(train_data, learning_rate, epochs):\n",
    "    weights = np.zeros(train_data.shape[1] - 1)\n",
    "    bias = 0\n",
    "\n",
    "    for e in range(epochs):\n",
    "        for sample in train_data:\n",
    "            x = sample[:-1]\n",
    "            y = sample[-1]\n",
    "            z = np.dot(weights, x) + bias\n",
    "\n",
    "            if z >= 0:\n",
    "                prediction = 1 \n",
    "            else:\n",
    "                prediction = 0\n",
    "                \n",
    "            yz = y - prediction\n",
    "\n",
    "            delta = learning_rate * yz * x\n",
    "            weights += delta\n",
    "            bias += learning_rate * yz\n",
    "\n",
    "    return weights, bias"
   ]
  },
  {
   "cell_type": "markdown",
   "id": "1d868731-5356-445a-b498-9b8d5fc0e73d",
   "metadata": {},
   "source": [
    "# Perceptron Test Function:"
   ]
  },
  {
   "cell_type": "code",
   "execution_count": 4,
   "id": "98c7d5eb-edec-4346-abeb-ebac8eab643a",
   "metadata": {},
   "outputs": [],
   "source": [
    "def perceptron_test(test_data, weights, bias):\n",
    "    predictions = []\n",
    "    for sample in test_data:\n",
    "            x = sample[:-1]\n",
    "            y = sample[-1]  \n",
    "            z = np.dot(weights, x) + bias\n",
    "            \n",
    "            if z >= 0:\n",
    "                pred = 1 \n",
    "            else:\n",
    "                pred = 0\n",
    "                \n",
    "            predictions.append((pred))\n",
    "\n",
    "    return predictions"
   ]
  },
  {
   "cell_type": "markdown",
   "id": "79c1e9b7-25d1-4833-84fc-556df9a19b47",
   "metadata": {},
   "source": [
    "# ـــــــــــــــــــــــــــــــــــــــــــــــــــــــــــــــــــــــــــــــــــــــــــــــــــــــــــــــــــ\n",
    "# learning rates:\n",
    "### 1- η = 0.1.\n",
    "### 2- η = 0.2.\n",
    "### 3- η = 0.3."
   ]
  },
  {
   "cell_type": "code",
   "execution_count": 5,
   "id": "04ef26be-d502-4d22-9a28-1ece7723adeb",
   "metadata": {},
   "outputs": [],
   "source": [
    "learning_rates = [0.1, 0.2, 0.3]"
   ]
  },
  {
   "cell_type": "markdown",
   "id": "b138f596-53e6-4fc3-87f8-9ba728bba0d5",
   "metadata": {},
   "source": [
    "# Testing The Perceptron Train Function:"
   ]
  },
  {
   "cell_type": "code",
   "execution_count": 19,
   "id": "ff7f6dee-cad9-4cb0-9c2c-eb1de0314948",
   "metadata": {},
   "outputs": [
    {
     "name": "stdin",
     "output_type": "stream",
     "text": [
      "Please enter the number of epoch you want:  1\n"
     ]
    },
    {
     "name": "stdout",
     "output_type": "stream",
     "text": [
      "\n",
      "The weights for Epoch 1 with Learning Rate 0.1 are:\n",
      "  Bias: 0.0\n",
      "  Weight w1: 0.0\n",
      "  Weight w2: 1.3877787807814457e-17\n",
      "  Weight w3: -0.115\n",
      "\n",
      "The weights for Epoch 1 with Learning Rate 0.2 are:\n",
      "  Bias: 0.0\n",
      "  Weight w1: 0.0\n",
      "  Weight w2: 2.7755575615628914e-17\n",
      "  Weight w3: -0.23\n",
      "\n",
      "The weights for Epoch 1 with Learning Rate 0.3 are:\n",
      "  Bias: 0.0\n",
      "  Weight w1: 0.0\n",
      "  Weight w2: 2.7755575615628914e-17\n",
      "  Weight w3: -0.345\n",
      "\n"
     ]
    }
   ],
   "source": [
    "epoch = int(input(\"Please enter the number of epoch you want: \"))\n",
    "print('')\n",
    "\n",
    "for lr in learning_rates:\n",
    "    w, b = perceptron_train(train_data, lr, epoch)\n",
    "    print(f\"The weights for Epoch {epoch} with Learning Rate {lr} are:\")\n",
    "    print(f\"  Bias: {b}\")\n",
    "    for i, weight in enumerate(w, start=1):\n",
    "        print(f\"  Weight w{i}: {weight}\")\n",
    "    print('')"
   ]
  },
  {
   "cell_type": "code",
   "execution_count": 23,
   "id": "cb3a6b5d-13ac-40a3-a89c-9655ab483a8b",
   "metadata": {},
   "outputs": [
    {
     "data": {
      "text/plain": [
       "numpy.ndarray"
      ]
     },
     "execution_count": 23,
     "metadata": {},
     "output_type": "execute_result"
    }
   ],
   "source": [
    "type(w)"
   ]
  },
  {
   "cell_type": "markdown",
   "id": "f80d53db-0c61-491f-a97d-372e930d046c",
   "metadata": {},
   "source": [
    "# Testing The Perceptron Test Function:"
   ]
  },
  {
   "cell_type": "code",
   "execution_count": 20,
   "id": "526fb821-8487-448c-a758-f9d3f0c0dd70",
   "metadata": {},
   "outputs": [
    {
     "name": "stdin",
     "output_type": "stream",
     "text": [
      "Please enter the number of epoch you want:  1\n"
     ]
    },
    {
     "name": "stdout",
     "output_type": "stream",
     "text": [
      "\n",
      "The predictions with Learning Rate 0.1 for Epoch 1 are: [0, 0, 0, 0, 0]\n",
      "The predictions with Learning Rate 0.2 for Epoch 1 are: [0, 0, 0, 0, 0]\n",
      "The predictions with Learning Rate 0.3 for Epoch 1 are: [0, 0, 0, 0, 0]\n"
     ]
    },
    {
     "data": {
      "text/plain": [
       "{0.1: [0, 0, 0, 0, 0], 0.2: [0, 0, 0, 0, 0], 0.3: [0, 0, 0, 0, 0]}"
      ]
     },
     "execution_count": 20,
     "metadata": {},
     "output_type": "execute_result"
    }
   ],
   "source": [
    "epoch = int(input(\"Please enter the number of epoch you want: \"))\n",
    "print('')\n",
    "\n",
    "results = {}\n",
    "for lr in learning_rates:\n",
    "    we, bi = perceptron_train(train_data, lr, epoch)\n",
    "    predictions = perceptron_test(test_data, we, bi)\n",
    "    results[lr] = predictions\n",
    "    print(f\"The predictions with Learning Rate {lr} for Epoch {epoch} are:\"\n",
    "          ,results[lr])\n",
    "results"
   ]
  },
  {
   "cell_type": "markdown",
   "id": "7e0b0bef-70da-4c8c-a114-907863b120eb",
   "metadata": {},
   "source": [
    "# __THE END__"
   ]
  }
 ],
 "metadata": {
  "kernelspec": {
   "display_name": "Python 3 (ipykernel)",
   "language": "python",
   "name": "python3"
  },
  "language_info": {
   "codemirror_mode": {
    "name": "ipython",
    "version": 3
   },
   "file_extension": ".py",
   "mimetype": "text/x-python",
   "name": "python",
   "nbconvert_exporter": "python",
   "pygments_lexer": "ipython3",
   "version": "3.9.19"
  }
 },
 "nbformat": 4,
 "nbformat_minor": 5
}
